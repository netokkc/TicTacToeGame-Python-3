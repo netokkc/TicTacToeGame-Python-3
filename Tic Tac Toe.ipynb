{
 "cells": [
  {
   "cell_type": "code",
   "execution_count": 2,
   "metadata": {},
   "outputs": [],
   "source": [
    "from IPython.display import clear_output\n",
    "\n",
    "# create a board used for the game\n",
    "def display_board(board):\n",
    "        clear_output() \n",
    "        print('   | %s | | %s | | %s |'%(board[1],board[2],board[3]))        \n",
    "        print('')\n",
    "        print('   | %s | | %s | | %s |'%(board[4],board[5],board[6]))        \n",
    "        print('')\n",
    "        print('   | %s | | %s | | %s |'%(board[7],board[8],board[9]))  "
   ]
  },
  {
   "cell_type": "code",
   "execution_count": null,
   "metadata": {},
   "outputs": [],
   "source": [
    "# test the board with a list, reminding that I skipped [0] on the board. You can use either\n",
    "test_board = ['#','X','O','X','O','X','O','X','O','X']\n",
    "display_board(test_board)"
   ]
  },
  {
   "cell_type": "code",
   "execution_count": 5,
   "metadata": {},
   "outputs": [],
   "source": [
    "def player_input():\n",
    "    \n",
    "    '''\n",
    "    OUTPUT = (Player 1 marker, player 2 marker)\n",
    "    This function will ask for an input of X or O and send it to the marker \n",
    "    \n",
    "    '''\n",
    "    \n",
    "    marker = ''\n",
    "    \n",
    "    # IF INPUT NOT X OR O, PROGRAM WILL KEEP ASKING FOR INPUT\n",
    "    \n",
    "    while marker != 'X' and marker != 'O':\n",
    "        marker = input('Player 1, please pick X or O: ').upper()\n",
    "        \n",
    "    player1 = marker\n",
    "        \n",
    "    if player1 == \"X\":\n",
    "        player2 = \"O\"\n",
    "    else:\n",
    "        player2 = \"X\"\n",
    "            \n",
    "    return (player1,player2)"
   ]
  },
  {
   "cell_type": "code",
   "execution_count": 7,
   "metadata": {},
   "outputs": [],
   "source": [
    "# this function is placing the Player's marker (X or O) into a position in the board based on a number input coming later in the code\n",
    "\n",
    "def place_marker(board, marker, position):\n",
    "    \n",
    "    board[position] = marker\n",
    "    "
   ]
  },
  {
   "cell_type": "code",
   "execution_count": null,
   "metadata": {},
   "outputs": [],
   "source": [
    "#testing the function inputting $ into position number 8 \n",
    "place_marker(test_board,'$',8)\n",
    "display_board(test_board)"
   ]
  },
  {
   "cell_type": "code",
   "execution_count": 9,
   "metadata": {},
   "outputs": [],
   "source": [
    "'''\n",
    "This function checks all possible scenario for a winning game\n",
    "'''\n",
    "\n",
    "def win_check(board,mark):\n",
    "    \n",
    "    # CHECK IF ALL ROWS MATCH\n",
    "    return ((board[1] == mark and board[2] == mark and board[3] == mark) or\n",
    "    (board[4] == mark and board[5] == mark and board[6] == mark) or\n",
    "    (board[7] == mark and board[8] == mark and board[9] == mark) or\n",
    "            \n",
    "    # CHECK IF ALL COLLUMN MATCH\n",
    "    (board[1] == mark and board[4] == mark and board[7] == mark) or    \n",
    "    (board[2] == mark and board[5] == mark and board[8] == mark) or\n",
    "    (board[3] == mark and board[6] == mark and board[9] == mark) or \n",
    "            \n",
    "    # CHECK IF 2 DIAGONALS MATCH\n",
    "    (board[1] == mark and board[5] == mark and board[9] == mark) or   \n",
    "    (board[3] == mark and board[5] == mark and board[7] == mark))"
   ]
  },
  {
   "cell_type": "code",
   "execution_count": null,
   "metadata": {},
   "outputs": [],
   "source": [
    "# testing if output is true based on a win\n",
    "\n",
    "display_board(test_board)\n",
    "win_check(test_board,'X')"
   ]
  },
  {
   "cell_type": "code",
   "execution_count": 11,
   "metadata": {},
   "outputs": [],
   "source": [
    "# function simulating a coin toss to decide which player will start first\n",
    "\n",
    "import random \n",
    "\n",
    "def choose_first():\n",
    "    \n",
    "    flip = random.randint(0,1)\n",
    "    \n",
    "    if flip == 0:\n",
    "        return 'Player 1'\n",
    "    else:\n",
    "        return 'Player 2'\n",
    "    "
   ]
  },
  {
   "cell_type": "code",
   "execution_count": 12,
   "metadata": {},
   "outputs": [],
   "source": [
    "# this function checks if there is space in the board so a player can choose the next move\n",
    "\n",
    "def space_check(board, position):\n",
    "    \n",
    "    return board[position] == ' '"
   ]
  },
  {
   "cell_type": "code",
   "execution_count": 13,
   "metadata": {},
   "outputs": [],
   "source": [
    "# checks if the board is full and later used to decide if it is a TIE game\n",
    "\n",
    "def full_board_check(board):\n",
    "    \n",
    "    for i in range(1,10):\n",
    "        if space_check(board,i):\n",
    "            return False\n",
    "        #BOARD IS FULL\n",
    "    return True"
   ]
  },
  {
   "cell_type": "code",
   "execution_count": 14,
   "metadata": {},
   "outputs": [],
   "source": [
    "'''\n",
    "Receives an input (integer) and checks if there is space available for that move and if not sends\n",
    "a message to choose another move\n",
    "'''\n",
    "\n",
    "def player_choice(board):\n",
    "    position = 0\n",
    "    \n",
    "    while position not in range(1,10) or not space_check(board,position):\n",
    "        position = int(input('Choose your position: (1-9)'))\n",
    "    else:\n",
    "        print(\"Choose another position\")\n",
    "        \n",
    "    return position"
   ]
  },
  {
   "cell_type": "code",
   "execution_count": 15,
   "metadata": {},
   "outputs": [],
   "source": [
    "# create a function that asks players if they want to play again\n",
    "def replay():\n",
    "    \n",
    "      return input('Do you want to play again? Enter Yes or No: ').lower().startswith('y')"
   ]
  },
  {
   "cell_type": "code",
   "execution_count": null,
   "metadata": {},
   "outputs": [],
   "source": [
    "'''\n",
    "GAME PLAY FOR TIC TAC TOE\n",
    "\n",
    "'''\n",
    "\n",
    "print(\"WELCOME TO TIC TAC TOE\")\n",
    "print(\"Use the positions in board to make your moves\")\n",
    "\n",
    "\n",
    "# WHILE LOOP TO KEEP RUNNING GAME\n",
    "while True:\n",
    "    \n",
    "    #PLAY THE GAME\n",
    "    \n",
    "    #SET EVERYTHING UP (BOARD, WHOS FIRST, CHOOSE MARKERS X or O)\n",
    "    theBoard = [' ']*10\n",
    "    player1_marker, player2_marker = player_input()\n",
    "    \n",
    "    turn = choose_first()\n",
    "    print(turn + ' WILL GO FIRST')\n",
    "    \n",
    "    play_game = input('ARE YOU READY TO PLAY? YES OR NO?')\n",
    "    \n",
    "    if play_game.lower()[0] == 'y':\n",
    "        game_on = True\n",
    "    else:\n",
    "        game_on = False\n",
    "        \n",
    "    \n",
    "    \n",
    "    #GAME PLAY\n",
    "    \n",
    "    while game_on:       \n",
    "        if turn == \"Player 1\":\n",
    "            \n",
    "            #show the board\n",
    "            display_board(theBoard)\n",
    "            \n",
    "            #choose a position\n",
    "            position = player_choice(theBoard)\n",
    "            \n",
    "            # Place the marker on the position\n",
    "            place_marker(theBoard,player1_marker,position)\n",
    "            \n",
    "            #check if the won\n",
    "            if win_check(theBoard, player1_marker):\n",
    "                display_board(theBoard)\n",
    "                print(\"PLAYER 1 HAS WON!!\")\n",
    "                game_on = False\n",
    "            \n",
    "            #check if it is a tie\n",
    "            else:\n",
    "                if full_board_check(theBoard):\n",
    "                    display_board(theBoard)\n",
    "                    print(\"TIE GAME\")\n",
    "                    game_on = False\n",
    "                    break\n",
    "                else:\n",
    "                    turn = \"Player 2\"\n",
    "                    \n",
    "        else:\n",
    "            #show the board\n",
    "            display_board(theBoard)\n",
    "            \n",
    "            #choose a position\n",
    "            position = player_choice(theBoard)\n",
    "            \n",
    "            # Place the marker on the position\n",
    "            place_marker(theBoard,player2_marker,position)\n",
    "            \n",
    "            #check if the won\n",
    "            if win_check(theBoard, player2_marker):\n",
    "                display_board(theBoard)\n",
    "                print(\"PLAYER 2 HAS WON THE GAME!!\")\n",
    "                game_on = False\n",
    "            else:\n",
    "                if full_board_check(theBoard):\n",
    "                    display_board(theBoard)\n",
    "                    print(\"TIE GAME\")\n",
    "                    break\n",
    "                else:\n",
    "                    turn = \"Player 1\"\n",
    "    \n",
    "\n",
    "    if not replay(): #call function otherwise breaks the loop and stop the game\n",
    "        break\n"
   ]
  }
 ],
 "metadata": {
  "kernelspec": {
   "display_name": "Python 3",
   "language": "python",
   "name": "python3"
  },
  "language_info": {
   "codemirror_mode": {
    "name": "ipython",
    "version": 3
   },
   "file_extension": ".py",
   "mimetype": "text/x-python",
   "name": "python",
   "nbconvert_exporter": "python",
   "pygments_lexer": "ipython3",
   "version": "3.7.4"
  }
 },
 "nbformat": 4,
 "nbformat_minor": 2
}
